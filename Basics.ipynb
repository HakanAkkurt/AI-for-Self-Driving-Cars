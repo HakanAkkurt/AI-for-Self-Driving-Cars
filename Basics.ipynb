{
 "cells": [
  {
   "cell_type": "code",
   "execution_count": 2,
   "id": "200b9092",
   "metadata": {},
   "outputs": [
    {
     "name": "stdout",
     "output_type": "stream",
     "text": [
      "4\n"
     ]
    }
   ],
   "source": [
    "print(2+2)"
   ]
  },
  {
   "cell_type": "code",
   "execution_count": 6,
   "id": "b090d858",
   "metadata": {},
   "outputs": [
    {
     "name": "stdout",
     "output_type": "stream",
     "text": [
      "30\n"
     ]
    }
   ],
   "source": [
    "i = 30\n",
    "print(i)"
   ]
  },
  {
   "cell_type": "code",
   "execution_count": 1,
   "id": "3f7465b5",
   "metadata": {},
   "outputs": [
    {
     "name": "stdout",
     "output_type": "stream",
     "text": [
      "hey was?\n"
     ]
    }
   ],
   "source": [
    "print('hey ' + 'was?!')"
   ]
  },
  {
   "cell_type": "code",
   "execution_count": 2,
   "id": "b5e847c0",
   "metadata": {},
   "outputs": [
    {
     "name": "stdout",
     "output_type": "stream",
     "text": [
      "wieso\n"
     ]
    }
   ],
   "source": [
    "anArray = ['hey', 'wieso', 'nicht']\n",
    "print(anArray[1])"
   ]
  },
  {
   "cell_type": "code",
   "execution_count": 4,
   "id": "02844cc8",
   "metadata": {},
   "outputs": [
    {
     "name": "stdout",
     "output_type": "stream",
     "text": [
      "could not find the brussel sprouts\n",
      "{'bananas': 2.99, 'apples': 1.59, 'ananas': 7.88}\n"
     ]
    }
   ],
   "source": [
    "grocery_items = {'bananas': 2.99, 'apples': 1.59, 'ananas': 7.88}\n",
    "item = 'brussel sprouts'\n",
    "if item in grocery_items:\n",
    "    print('found the', item)\n",
    "else:\n",
    "    print('could not find the', item)\n",
    "    print(grocery_items)\n",
    "    "
   ]
  },
  {
   "cell_type": "code",
   "execution_count": 5,
   "id": "b06ef8de",
   "metadata": {},
   "outputs": [
    {
     "name": "stdout",
     "output_type": "stream",
     "text": [
      "{'bananas': 2.99, 'apples': 1.59, 'ananas': 7.88, 'brussel sprouts': 2.77}\n"
     ]
    }
   ],
   "source": [
    "grocery_items.update({item: 2.77})\n",
    "print(grocery_items)"
   ]
  },
  {
   "cell_type": "code",
   "execution_count": 1,
   "id": "4dfc57f0",
   "metadata": {},
   "outputs": [
    {
     "name": "stdout",
     "output_type": "stream",
     "text": [
      "Januar\n",
      "Ferbuar\n",
      "März\n"
     ]
    }
   ],
   "source": [
    "months = ['Januar', 'Ferbuar', 'März']\n",
    "for month in months:\n",
    "    print(month)"
   ]
  },
  {
   "cell_type": "code",
   "execution_count": 3,
   "id": "ab9ca0fe",
   "metadata": {},
   "outputs": [
    {
     "name": "stdout",
     "output_type": "stream",
     "text": [
      "0\n",
      "1\n",
      "2\n",
      "3\n",
      "4\n",
      "5\n",
      "6\n",
      "7\n",
      "8\n",
      "9\n"
     ]
    }
   ],
   "source": [
    "for number in range(0, 10):\n",
    "    print(number)"
   ]
  },
  {
   "cell_type": "code",
   "execution_count": 5,
   "id": "f46afc26",
   "metadata": {},
   "outputs": [
    {
     "name": "stdout",
     "output_type": "stream",
     "text": [
      "The movie 'Titanic', was made in 1997\n",
      "The movie 'Jurassic Park', was made in 1995\n"
     ]
    }
   ],
   "source": [
    "movies = {'Titanic': 1997, 'Jurassic Park': 1995}\n",
    "\n",
    "for (key, value) in movies.items():\n",
    "    print('The movie \\'{}\\', was made in {}'.format(key, value))"
   ]
  },
  {
   "cell_type": "code",
   "execution_count": 1,
   "id": "e6e95bbf",
   "metadata": {},
   "outputs": [
    {
     "name": "stdout",
     "output_type": "stream",
     "text": [
      "The movie Titanic, was made in 1997!\n",
      "The movie Jurassic Park, was made in 1995!\n"
     ]
    }
   ],
   "source": [
    "movies = {'Titanic': 1997, 'Jurassic Park': 1995}\n",
    "\n",
    "for (key, value) in movies.items():\n",
    "    print(f'The movie {key}, was made in {value}!')"
   ]
  },
  {
   "cell_type": "code",
   "execution_count": 5,
   "id": "35e03be8",
   "metadata": {},
   "outputs": [
    {
     "name": "stdout",
     "output_type": "stream",
     "text": [
      "25\n"
     ]
    }
   ],
   "source": [
    "def rectangleArea(length, width):\n",
    "    \"\"\"comment\"\"\"\n",
    "    return length * width\n",
    "print(rectangleArea(5,5))\n"
   ]
  },
  {
   "cell_type": "code",
   "execution_count": 9,
   "id": "63c59049",
   "metadata": {},
   "outputs": [
    {
     "name": "stdout",
     "output_type": "stream",
     "text": [
      "[2, 4, 6]\n"
     ]
    }
   ],
   "source": [
    "numbers = [1, 2, 3, 4, 5, 6]\n",
    "\n",
    "print(list(filter(lambda number: number % 2 == 0, numbers)))"
   ]
  },
  {
   "cell_type": "code",
   "execution_count": 12,
   "id": "fb133c76",
   "metadata": {},
   "outputs": [
    {
     "name": "stdout",
     "output_type": "stream",
     "text": [
      "[1, 2, 3]\n",
      "[2, 12, 36]\n"
     ]
    }
   ],
   "source": [
    "listTwo = list(range(1, 4))\n",
    "listThree = list(range(1, 4))\n",
    "listSum = []\n",
    "\n",
    "for index in range(3):\n",
    "    listTwo[index] = listTwo[index] ** 2\n",
    "    listThree[index] = listThree[index] ** 3\n",
    "    listSum.append(listTwo[index] + listThree[index])\n",
    "print(listSum)"
   ]
  },
  {
   "cell_type": "code",
   "execution_count": 2,
   "id": "b5538a65",
   "metadata": {},
   "outputs": [
    {
     "name": "stdout",
     "output_type": "stream",
     "text": [
      "[ 2 12 36]\n"
     ]
    }
   ],
   "source": [
    "import numpy as np\n",
    "\n",
    "arrayTwo = np.arange(1, 4) ** 2\n",
    "arrayThree = np.arange(1, 4) ** 3\n",
    "print(arrayTwo + arrayThree)"
   ]
  },
  {
   "cell_type": "code",
   "execution_count": 15,
   "id": "3b8c5395",
   "metadata": {},
   "outputs": [
    {
     "name": "stdout",
     "output_type": "stream",
     "text": [
      "[ 1 16 81]\n"
     ]
    }
   ],
   "source": [
    "sampleArray = np.array([1, 2, 3])\n",
    "print(np.power(sampleArray, 4))"
   ]
  },
  {
   "cell_type": "code",
   "execution_count": 14,
   "id": "6885d752",
   "metadata": {},
   "outputs": [
    {
     "name": "stdout",
     "output_type": "stream",
     "text": [
      "[-1 -2 -3]\n"
     ]
    }
   ],
   "source": [
    "print(np.negative(sampleArray))"
   ]
  },
  {
   "cell_type": "code",
   "execution_count": 16,
   "id": "bc321ccc",
   "metadata": {},
   "outputs": [
    {
     "name": "stdout",
     "output_type": "stream",
     "text": [
      "[ 2.71828183  7.3890561  20.08553692]\n"
     ]
    }
   ],
   "source": [
    "print(np.exp(sampleArray))"
   ]
  },
  {
   "cell_type": "code",
   "execution_count": 17,
   "id": "c6bcc816",
   "metadata": {},
   "outputs": [
    {
     "name": "stdout",
     "output_type": "stream",
     "text": [
      "[0.         0.69314718 1.09861229]\n"
     ]
    }
   ],
   "source": [
    "print(np.log(sampleArray))"
   ]
  },
  {
   "cell_type": "code",
   "execution_count": 18,
   "id": "962c4b68",
   "metadata": {},
   "outputs": [
    {
     "name": "stdout",
     "output_type": "stream",
     "text": [
      "[0.84147098 0.90929743 0.14112001]\n"
     ]
    }
   ],
   "source": [
    "print(np.sin(sampleArray))"
   ]
  },
  {
   "cell_type": "code",
   "execution_count": 3,
   "id": "869a3c94",
   "metadata": {},
   "outputs": [
    {
     "name": "stdout",
     "output_type": "stream",
     "text": [
      "[[0 1 2]\n",
      " [3 4 5]\n",
      " [6 7 8]]\n",
      "(3, 3)\n",
      "[[False False False]\n",
      " [False False False]\n",
      " [ True  True  True]]\n",
      "[6 7 8]\n",
      "8\n",
      "[0 1 2 3 4 5 6 7 8]\n"
     ]
    }
   ],
   "source": [
    "x = np.arange(3)\n",
    "y = np.arange(3, 6)\n",
    "z = np.arange(6, 9)\n",
    "\n",
    "multiArray = np.array([x, y, z])\n",
    "print(multiArray)\n",
    "print(multiArray.shape)\n",
    "print(multiArray > 5)\n",
    "print(multiArray[multiArray > 5])\n",
    "print(multiArray.max())\n",
    "print(multiArray.ravel())"
   ]
  },
  {
   "cell_type": "code",
   "execution_count": 33,
   "id": "b12f5201",
   "metadata": {},
   "outputs": [
    {
     "name": "stdout",
     "output_type": "stream",
     "text": [
      "[ 1.  2.  3.  4.  5.  6.  7.  8.  9. 10. 11. 12. 13. 14. 15. 16. 17. 18.\n",
      " 19. 20. 21. 22. 23. 24. 25. 26. 27. 28. 29. 30. 31. 32. 33. 34. 35. 36.\n",
      " 37. 38. 39. 40. 41. 42. 43. 44. 45. 46. 47. 48. 49.]\n"
     ]
    }
   ],
   "source": [
    "w = np.linspace(1, 49, 49)\n",
    "print(w)"
   ]
  },
  {
   "cell_type": "code",
   "execution_count": null,
   "id": "6e10dea6",
   "metadata": {},
   "outputs": [],
   "source": []
  }
 ],
 "metadata": {
  "kernelspec": {
   "display_name": "Python 3",
   "language": "python",
   "name": "python3"
  },
  "language_info": {
   "codemirror_mode": {
    "name": "ipython",
    "version": 3
   },
   "file_extension": ".py",
   "mimetype": "text/x-python",
   "name": "python",
   "nbconvert_exporter": "python",
   "pygments_lexer": "ipython3",
   "version": "3.8.8"
  }
 },
 "nbformat": 4,
 "nbformat_minor": 5
}
